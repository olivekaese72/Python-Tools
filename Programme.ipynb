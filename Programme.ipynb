{
 "cells": [
  {
   "cell_type": "code",
   "execution_count": null,
   "metadata": {},
   "outputs": [],
   "source": [
    "import xmltodict\n",
    "import json\n",
    "import requests\n",
    "\n",
    "api_url = \"https://avm.de\"\n",
    "#api_url = \"https://stage.pim.wilkhahn.sepia.de/awx/api/objects/wilkhahn/search?sid=export&path_filter=/1/448984/132286\"\n",
    "response = requests.get(api_url)\n",
    "response.json()\n",
    "\n",
    "response\n"
   ]
  },
  {
   "cell_type": "code",
   "execution_count": null,
   "metadata": {},
   "outputs": [],
   "source": []
  }
 ],
 "metadata": {
  "kernelspec": {
   "display_name": "Python 3",
   "language": "python",
   "name": "python3"
  },
  "language_info": {
   "name": "python",
   "version": "3.12.4"
  }
 },
 "nbformat": 4,
 "nbformat_minor": 2
}
